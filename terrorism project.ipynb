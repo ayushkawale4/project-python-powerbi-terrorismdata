{
 "cells": [
  {
   "cell_type": "markdown",
   "id": "f05eac4b",
   "metadata": {},
   "source": [
    "#  Global Terrorism Data Analysis"
   ]
  },
  {
   "cell_type": "markdown",
   "id": "a0dec246",
   "metadata": {},
   "source": [
    "The Global Terrorism Database (GTD) is an open-source database including\n",
    "information on terrorist attacks around the world from 1970 through 2017.\n",
    "The GTD includes systematic data on domestic as well as international terrorist\n",
    "incidents that have occurred during this time period and now includes more than\n",
    "180,000 attacks. The database is maintained by researchers at the \n",
    "National Consortium for the Study of Terrorism and \n",
    "Responses to Terrorism (START), headquartered at the University of Maryland."
   ]
  },
  {
   "cell_type": "markdown",
   "id": "a03490d5",
   "metadata": {},
   "source": [
    "#### Data Importing"
   ]
  },
  {
   "cell_type": "code",
   "execution_count": 9,
   "id": "11f80864",
   "metadata": {},
   "outputs": [],
   "source": [
    "import numpy as np\n",
    "import pandas as pd\n",
    "import matplotlib.pyplot as plt\n",
    "import seaborn as sns"
   ]
  },
  {
   "cell_type": "code",
   "execution_count": 10,
   "id": "db8a0cf3",
   "metadata": {
    "scrolled": true
   },
   "outputs": [],
   "source": [
    "#import the data\n",
    "\n",
    "path=r\"C:\\Users\\ayush\\Downloads\\globalterrorismdb_0718dist(1).csv\"\n",
    "terrorism_data = pd.read_csv(path, low_memory=False, encoding='ISO-8859-1')\n"
   ]
  },
  {
   "cell_type": "code",
   "execution_count": 11,
   "id": "74fbdc64",
   "metadata": {},
   "outputs": [
    {
     "data": {
      "text/html": [
       "<div>\n",
       "<style scoped>\n",
       "    .dataframe tbody tr th:only-of-type {\n",
       "        vertical-align: middle;\n",
       "    }\n",
       "\n",
       "    .dataframe tbody tr th {\n",
       "        vertical-align: top;\n",
       "    }\n",
       "\n",
       "    .dataframe thead th {\n",
       "        text-align: right;\n",
       "    }\n",
       "</style>\n",
       "<table border=\"1\" class=\"dataframe\">\n",
       "  <thead>\n",
       "    <tr style=\"text-align: right;\">\n",
       "      <th></th>\n",
       "      <th>eventid</th>\n",
       "      <th>iyear</th>\n",
       "      <th>imonth</th>\n",
       "      <th>iday</th>\n",
       "      <th>approxdate</th>\n",
       "      <th>extended</th>\n",
       "      <th>resolution</th>\n",
       "      <th>country</th>\n",
       "      <th>country_txt</th>\n",
       "      <th>region</th>\n",
       "      <th>...</th>\n",
       "      <th>addnotes</th>\n",
       "      <th>scite1</th>\n",
       "      <th>scite2</th>\n",
       "      <th>scite3</th>\n",
       "      <th>dbsource</th>\n",
       "      <th>INT_LOG</th>\n",
       "      <th>INT_IDEO</th>\n",
       "      <th>INT_MISC</th>\n",
       "      <th>INT_ANY</th>\n",
       "      <th>related</th>\n",
       "    </tr>\n",
       "  </thead>\n",
       "  <tbody>\n",
       "    <tr>\n",
       "      <th>0</th>\n",
       "      <td>197000000001</td>\n",
       "      <td>1970</td>\n",
       "      <td>7</td>\n",
       "      <td>2</td>\n",
       "      <td>NaN</td>\n",
       "      <td>0</td>\n",
       "      <td>NaN</td>\n",
       "      <td>58</td>\n",
       "      <td>Dominican Republic</td>\n",
       "      <td>2</td>\n",
       "      <td>...</td>\n",
       "      <td>NaN</td>\n",
       "      <td>NaN</td>\n",
       "      <td>NaN</td>\n",
       "      <td>NaN</td>\n",
       "      <td>PGIS</td>\n",
       "      <td>0</td>\n",
       "      <td>0</td>\n",
       "      <td>0</td>\n",
       "      <td>0</td>\n",
       "      <td>NaN</td>\n",
       "    </tr>\n",
       "    <tr>\n",
       "      <th>1</th>\n",
       "      <td>197000000002</td>\n",
       "      <td>1970</td>\n",
       "      <td>0</td>\n",
       "      <td>0</td>\n",
       "      <td>NaN</td>\n",
       "      <td>0</td>\n",
       "      <td>NaN</td>\n",
       "      <td>130</td>\n",
       "      <td>Mexico</td>\n",
       "      <td>1</td>\n",
       "      <td>...</td>\n",
       "      <td>NaN</td>\n",
       "      <td>NaN</td>\n",
       "      <td>NaN</td>\n",
       "      <td>NaN</td>\n",
       "      <td>PGIS</td>\n",
       "      <td>0</td>\n",
       "      <td>1</td>\n",
       "      <td>1</td>\n",
       "      <td>1</td>\n",
       "      <td>NaN</td>\n",
       "    </tr>\n",
       "    <tr>\n",
       "      <th>2</th>\n",
       "      <td>197001000001</td>\n",
       "      <td>1970</td>\n",
       "      <td>1</td>\n",
       "      <td>0</td>\n",
       "      <td>NaN</td>\n",
       "      <td>0</td>\n",
       "      <td>NaN</td>\n",
       "      <td>160</td>\n",
       "      <td>Philippines</td>\n",
       "      <td>5</td>\n",
       "      <td>...</td>\n",
       "      <td>NaN</td>\n",
       "      <td>NaN</td>\n",
       "      <td>NaN</td>\n",
       "      <td>NaN</td>\n",
       "      <td>PGIS</td>\n",
       "      <td>-9</td>\n",
       "      <td>-9</td>\n",
       "      <td>1</td>\n",
       "      <td>1</td>\n",
       "      <td>NaN</td>\n",
       "    </tr>\n",
       "    <tr>\n",
       "      <th>3</th>\n",
       "      <td>197001000002</td>\n",
       "      <td>1970</td>\n",
       "      <td>1</td>\n",
       "      <td>0</td>\n",
       "      <td>NaN</td>\n",
       "      <td>0</td>\n",
       "      <td>NaN</td>\n",
       "      <td>78</td>\n",
       "      <td>Greece</td>\n",
       "      <td>8</td>\n",
       "      <td>...</td>\n",
       "      <td>NaN</td>\n",
       "      <td>NaN</td>\n",
       "      <td>NaN</td>\n",
       "      <td>NaN</td>\n",
       "      <td>PGIS</td>\n",
       "      <td>-9</td>\n",
       "      <td>-9</td>\n",
       "      <td>1</td>\n",
       "      <td>1</td>\n",
       "      <td>NaN</td>\n",
       "    </tr>\n",
       "    <tr>\n",
       "      <th>4</th>\n",
       "      <td>197001000003</td>\n",
       "      <td>1970</td>\n",
       "      <td>1</td>\n",
       "      <td>0</td>\n",
       "      <td>NaN</td>\n",
       "      <td>0</td>\n",
       "      <td>NaN</td>\n",
       "      <td>101</td>\n",
       "      <td>Japan</td>\n",
       "      <td>4</td>\n",
       "      <td>...</td>\n",
       "      <td>NaN</td>\n",
       "      <td>NaN</td>\n",
       "      <td>NaN</td>\n",
       "      <td>NaN</td>\n",
       "      <td>PGIS</td>\n",
       "      <td>-9</td>\n",
       "      <td>-9</td>\n",
       "      <td>1</td>\n",
       "      <td>1</td>\n",
       "      <td>NaN</td>\n",
       "    </tr>\n",
       "  </tbody>\n",
       "</table>\n",
       "<p>5 rows × 135 columns</p>\n",
       "</div>"
      ],
      "text/plain": [
       "        eventid  iyear  imonth  iday approxdate  extended resolution  country  \\\n",
       "0  197000000001   1970       7     2        NaN         0        NaN       58   \n",
       "1  197000000002   1970       0     0        NaN         0        NaN      130   \n",
       "2  197001000001   1970       1     0        NaN         0        NaN      160   \n",
       "3  197001000002   1970       1     0        NaN         0        NaN       78   \n",
       "4  197001000003   1970       1     0        NaN         0        NaN      101   \n",
       "\n",
       "          country_txt  region  ... addnotes scite1 scite2  scite3  dbsource  \\\n",
       "0  Dominican Republic       2  ...      NaN    NaN    NaN     NaN      PGIS   \n",
       "1              Mexico       1  ...      NaN    NaN    NaN     NaN      PGIS   \n",
       "2         Philippines       5  ...      NaN    NaN    NaN     NaN      PGIS   \n",
       "3              Greece       8  ...      NaN    NaN    NaN     NaN      PGIS   \n",
       "4               Japan       4  ...      NaN    NaN    NaN     NaN      PGIS   \n",
       "\n",
       "   INT_LOG  INT_IDEO INT_MISC INT_ANY  related  \n",
       "0        0         0        0       0      NaN  \n",
       "1        0         1        1       1      NaN  \n",
       "2       -9        -9        1       1      NaN  \n",
       "3       -9        -9        1       1      NaN  \n",
       "4       -9        -9        1       1      NaN  \n",
       "\n",
       "[5 rows x 135 columns]"
      ]
     },
     "execution_count": 11,
     "metadata": {},
     "output_type": "execute_result"
    }
   ],
   "source": [
    "terrorism_data.head()"
   ]
  },
  {
   "cell_type": "code",
   "execution_count": 12,
   "id": "96f31332",
   "metadata": {},
   "outputs": [
    {
     "data": {
      "text/plain": [
       "(181691, 135)"
      ]
     },
     "execution_count": 12,
     "metadata": {},
     "output_type": "execute_result"
    }
   ],
   "source": [
    "terrorism_data.shape"
   ]
  },
  {
   "cell_type": "markdown",
   "id": "2d13cb22",
   "metadata": {},
   "source": [
    "We can see that the dataset contains huge amount of data , we will select \n",
    "suitable columns for our analysis. Also the dataset contains terror info \n",
    "from 1970 - 2016 we will slice the data for a shorter timeframe."
   ]
  },
  {
   "cell_type": "code",
   "execution_count": 13,
   "id": "f1211790",
   "metadata": {},
   "outputs": [
    {
     "data": {
      "text/plain": [
       "[<matplotlib.lines.Line2D at 0x2094e11be90>]"
      ]
     },
     "execution_count": 13,
     "metadata": {},
     "output_type": "execute_result"
    },
    {
     "data": {
      "image/png": "[encoded data removed]",
      "text/plain": [
       "<Figure size 640x480 with 1 Axes>"
      ]
     },
     "metadata": {},
     "output_type": "display_data"
    }
   ],
   "source": [
    "# let's see  worldwide terror activity since 1970\n",
    "\n",
    "terr_activity = terrorism_data.groupby('iyear')['eventid'].count().to_frame()\n",
    "# yearly trend\n",
    "plt.plot(terr_activity)"
   ]
  },
  {
   "cell_type": "markdown",
   "id": "d4e1d704",
   "metadata": {},
   "source": [
    "##### We can see steady rise in terrorism since 2000. We will select the 2000-2017 timeframe for our analysis.\n"
   ]
  },
  {
   "cell_type": "code",
   "execution_count": 14,
   "id": "844668d3",
   "metadata": {},
   "outputs": [],
   "source": [
    "# selecting the columns\n",
    "columns_to_keep = ['eventid','iyear','imonth','iday','country_txt',\n",
    "'region_txt','success','suicide','attacktype1','attacktype1_txt','targtype1_txt',\n",
    "'target1','gname', 'gsubname','nperps','weaptype1_txt','weapsubtype1_txt','nkill','nwound','city','provstate']\n",
    "\n",
    "df = terrorism_data[terrorism_data['iyear'] >= 2000][columns_to_keep]"
   ]
  },
  {
   "cell_type": "code",
   "execution_count": 15,
   "id": "bbdea8b1",
   "metadata": {},
   "outputs": [],
   "source": [
    "#setting the index \n",
    "\n",
    "df.set_index('eventid', drop=True, inplace=True)"
   ]
  },
  {
   "cell_type": "code",
   "execution_count": 16,
   "id": "b17924a6",
   "metadata": {},
   "outputs": [
    {
     "data": {
      "text/html": [
       "<div>\n",
       "<style scoped>\n",
       "    .dataframe tbody tr th:only-of-type {\n",
       "        vertical-align: middle;\n",
       "    }\n",
       "\n",
       "    .dataframe tbody tr th {\n",
       "        vertical-align: top;\n",
       "    }\n",
       "\n",
       "    .dataframe thead th {\n",
       "        text-align: right;\n",
       "    }\n",
       "</style>\n",
       "<table border=\"1\" class=\"dataframe\">\n",
       "  <thead>\n",
       "    <tr style=\"text-align: right;\">\n",
       "      <th></th>\n",
       "      <th>iyear</th>\n",
       "      <th>imonth</th>\n",
       "      <th>iday</th>\n",
       "      <th>country_txt</th>\n",
       "      <th>region_txt</th>\n",
       "      <th>success</th>\n",
       "      <th>suicide</th>\n",
       "      <th>attacktype1</th>\n",
       "      <th>attacktype1_txt</th>\n",
       "      <th>targtype1_txt</th>\n",
       "      <th>target1</th>\n",
       "      <th>gname</th>\n",
       "      <th>gsubname</th>\n",
       "      <th>nperps</th>\n",
       "      <th>weaptype1_txt</th>\n",
       "      <th>weapsubtype1_txt</th>\n",
       "      <th>nkill</th>\n",
       "      <th>nwound</th>\n",
       "      <th>city</th>\n",
       "      <th>provstate</th>\n",
       "    </tr>\n",
       "    <tr>\n",
       "      <th>eventid</th>\n",
       "      <th></th>\n",
       "      <th></th>\n",
       "      <th></th>\n",
       "      <th></th>\n",
       "      <th></th>\n",
       "      <th></th>\n",
       "      <th></th>\n",
       "      <th></th>\n",
       "      <th></th>\n",
       "      <th></th>\n",
       "      <th></th>\n",
       "      <th></th>\n",
       "      <th></th>\n",
       "      <th></th>\n",
       "      <th></th>\n",
       "      <th></th>\n",
       "      <th></th>\n",
       "      <th></th>\n",
       "      <th></th>\n",
       "      <th></th>\n",
       "    </tr>\n",
       "  </thead>\n",
       "  <tbody>\n",
       "    <tr>\n",
       "      <th>200001010001</th>\n",
       "      <td>2000</td>\n",
       "      <td>1</td>\n",
       "      <td>1</td>\n",
       "      <td>Namibia</td>\n",
       "      <td>Sub-Saharan Africa</td>\n",
       "      <td>1</td>\n",
       "      <td>0</td>\n",
       "      <td>2</td>\n",
       "      <td>Armed Assault</td>\n",
       "      <td>Business</td>\n",
       "      <td>A tavern in Muitjiku</td>\n",
       "      <td>National Union for the Total Independence of A...</td>\n",
       "      <td>NaN</td>\n",
       "      <td>NaN</td>\n",
       "      <td>Firearms</td>\n",
       "      <td>Unknown Gun Type</td>\n",
       "      <td>0.0</td>\n",
       "      <td>7.0</td>\n",
       "      <td>Muitjiku</td>\n",
       "      <td>Kavango</td>\n",
       "    </tr>\n",
       "    <tr>\n",
       "      <th>200001010002</th>\n",
       "      <td>2000</td>\n",
       "      <td>1</td>\n",
       "      <td>1</td>\n",
       "      <td>Namibia</td>\n",
       "      <td>Sub-Saharan Africa</td>\n",
       "      <td>1</td>\n",
       "      <td>0</td>\n",
       "      <td>6</td>\n",
       "      <td>Hostage Taking (Kidnapping)</td>\n",
       "      <td>Business</td>\n",
       "      <td>The Bush Babies nightclub in Muitjiku</td>\n",
       "      <td>National Union for the Total Independence of A...</td>\n",
       "      <td>NaN</td>\n",
       "      <td>NaN</td>\n",
       "      <td>Firearms</td>\n",
       "      <td>Unknown Gun Type</td>\n",
       "      <td>0.0</td>\n",
       "      <td>7.0</td>\n",
       "      <td>Muitjiku</td>\n",
       "      <td>Kavango</td>\n",
       "    </tr>\n",
       "    <tr>\n",
       "      <th>200001010003</th>\n",
       "      <td>2000</td>\n",
       "      <td>1</td>\n",
       "      <td>1</td>\n",
       "      <td>India</td>\n",
       "      <td>South Asia</td>\n",
       "      <td>1</td>\n",
       "      <td>0</td>\n",
       "      <td>2</td>\n",
       "      <td>Armed Assault</td>\n",
       "      <td>Police</td>\n",
       "      <td>The Central Reserve Police Force 68 battalion ...</td>\n",
       "      <td>Lashkar-e-Taiba (LeT)</td>\n",
       "      <td>NaN</td>\n",
       "      <td>NaN</td>\n",
       "      <td>Firearms</td>\n",
       "      <td>Unknown Gun Type</td>\n",
       "      <td>1.0</td>\n",
       "      <td>2.0</td>\n",
       "      <td>Udhampur</td>\n",
       "      <td>Jammu and Kashmir</td>\n",
       "    </tr>\n",
       "    <tr>\n",
       "      <th>200001010004</th>\n",
       "      <td>2000</td>\n",
       "      <td>1</td>\n",
       "      <td>1</td>\n",
       "      <td>Kosovo</td>\n",
       "      <td>Eastern Europe</td>\n",
       "      <td>1</td>\n",
       "      <td>0</td>\n",
       "      <td>3</td>\n",
       "      <td>Bombing/Explosion</td>\n",
       "      <td>Private Citizens &amp; Property</td>\n",
       "      <td>A Romany (gypsy) home in Pec, Kosovo</td>\n",
       "      <td>Unknown</td>\n",
       "      <td>NaN</td>\n",
       "      <td>NaN</td>\n",
       "      <td>Explosives</td>\n",
       "      <td>Unknown Explosive Type</td>\n",
       "      <td>0.0</td>\n",
       "      <td>1.0</td>\n",
       "      <td>Peje</td>\n",
       "      <td>Kosovo (Province)</td>\n",
       "    </tr>\n",
       "    <tr>\n",
       "      <th>200001010005</th>\n",
       "      <td>2000</td>\n",
       "      <td>1</td>\n",
       "      <td>1</td>\n",
       "      <td>Somalia</td>\n",
       "      <td>Sub-Saharan Africa</td>\n",
       "      <td>1</td>\n",
       "      <td>0</td>\n",
       "      <td>2</td>\n",
       "      <td>Armed Assault</td>\n",
       "      <td>Private Citizens &amp; Property</td>\n",
       "      <td>Milk traders traveling from Mogadishu</td>\n",
       "      <td>Unknown</td>\n",
       "      <td>NaN</td>\n",
       "      <td>NaN</td>\n",
       "      <td>Firearms</td>\n",
       "      <td>Unknown Gun Type</td>\n",
       "      <td>6.0</td>\n",
       "      <td>10.0</td>\n",
       "      <td>Mogadishu</td>\n",
       "      <td>Banaadir</td>\n",
       "    </tr>\n",
       "  </tbody>\n",
       "</table>\n",
       "</div>"
      ],
      "text/plain": [
       "              iyear  imonth  iday country_txt          region_txt  success  \\\n",
       "eventid                                                                      \n",
       "200001010001   2000       1     1     Namibia  Sub-Saharan Africa        1   \n",
       "200001010002   2000       1     1     Namibia  Sub-Saharan Africa        1   \n",
       "200001010003   2000       1     1       India          South Asia        1   \n",
       "200001010004   2000       1     1      Kosovo      Eastern Europe        1   \n",
       "200001010005   2000       1     1     Somalia  Sub-Saharan Africa        1   \n",
       "\n",
       "              suicide  attacktype1              attacktype1_txt  \\\n",
       "eventid                                                           \n",
       "200001010001        0            2                Armed Assault   \n",
       "200001010002        0            6  Hostage Taking (Kidnapping)   \n",
       "200001010003        0            2                Armed Assault   \n",
       "200001010004        0            3            Bombing/Explosion   \n",
       "200001010005        0            2                Armed Assault   \n",
       "\n",
       "                            targtype1_txt  \\\n",
       "eventid                                     \n",
       "200001010001                     Business   \n",
       "200001010002                     Business   \n",
       "200001010003                       Police   \n",
       "200001010004  Private Citizens & Property   \n",
       "200001010005  Private Citizens & Property   \n",
       "\n",
       "                                                        target1  \\\n",
       "eventid                                                           \n",
       "200001010001                               A tavern in Muitjiku   \n",
       "200001010002              The Bush Babies nightclub in Muitjiku   \n",
       "200001010003  The Central Reserve Police Force 68 battalion ...   \n",
       "200001010004               A Romany (gypsy) home in Pec, Kosovo   \n",
       "200001010005              Milk traders traveling from Mogadishu   \n",
       "\n",
       "                                                          gname gsubname  \\\n",
       "eventid                                                                    \n",
       "200001010001  National Union for the Total Independence of A...      NaN   \n",
       "200001010002  National Union for the Total Independence of A...      NaN   \n",
       "200001010003                              Lashkar-e-Taiba (LeT)      NaN   \n",
       "200001010004                                            Unknown      NaN   \n",
       "200001010005                                            Unknown      NaN   \n",
       "\n",
       "              nperps weaptype1_txt        weapsubtype1_txt  nkill  nwound  \\\n",
       "eventid                                                                     \n",
       "200001010001     NaN      Firearms        Unknown Gun Type    0.0     7.0   \n",
       "200001010002     NaN      Firearms        Unknown Gun Type    0.0     7.0   \n",
       "200001010003     NaN      Firearms        Unknown Gun Type    1.0     2.0   \n",
       "200001010004     NaN    Explosives  Unknown Explosive Type    0.0     1.0   \n",
       "200001010005     NaN      Firearms        Unknown Gun Type    6.0    10.0   \n",
       "\n",
       "                   city          provstate  \n",
       "eventid                                     \n",
       "200001010001   Muitjiku            Kavango  \n",
       "200001010002   Muitjiku            Kavango  \n",
       "200001010003   Udhampur  Jammu and Kashmir  \n",
       "200001010004       Peje  Kosovo (Province)  \n",
       "200001010005  Mogadishu           Banaadir  "
      ]
     },
     "execution_count": 16,
     "metadata": {},
     "output_type": "execute_result"
    }
   ],
   "source": [
    "#checking the new dataframe\n",
    "\n",
    "df.head()"
   ]
  },
  {
   "cell_type": "markdown",
   "id": "7a005b31",
   "metadata": {},
   "source": [
    "# Data Preparation"
   ]
  },
  {
   "cell_type": "code",
   "execution_count": 17,
   "id": "a13bc99f",
   "metadata": {},
   "outputs": [
    {
     "data": {
      "text/plain": [
       "iyear                 int64\n",
       "imonth                int64\n",
       "iday                  int64\n",
       "country_txt          object\n",
       "region_txt           object\n",
       "success               int64\n",
       "suicide               int64\n",
       "attacktype1           int64\n",
       "attacktype1_txt      object\n",
       "targtype1_txt        object\n",
       "target1              object\n",
       "gname                object\n",
       "gsubname             object\n",
       "nperps              float64\n",
       "weaptype1_txt        object\n",
       "weapsubtype1_txt     object\n",
       "nkill               float64\n",
       "nwound              float64\n",
       "city                 object\n",
       "provstate            object\n",
       "dtype: object"
      ]
     },
     "execution_count": 17,
     "metadata": {},
     "output_type": "execute_result"
    }
   ],
   "source": [
    "# data types of columns\n",
    "df.dtypes\n",
    "## which seems correct now "
   ]
  },
  {
   "cell_type": "code",
   "execution_count": 18,
   "id": "4f655afc",
   "metadata": {},
   "outputs": [
    {
     "data": {
      "text/plain": [
       "iyear                    0\n",
       "imonth                   0\n",
       "iday                     0\n",
       "country_txt              0\n",
       "region_txt               0\n",
       "success                  0\n",
       "suicide                  0\n",
       "attacktype1              0\n",
       "attacktype1_txt          0\n",
       "targtype1_txt            0\n",
       "target1                170\n",
       "gname                    0\n",
       "gsubname            108746\n",
       "nperps               11353\n",
       "weaptype1_txt            0\n",
       "weapsubtype1_txt      8913\n",
       "nkill                 4167\n",
       "nwound                7980\n",
       "city                   435\n",
       "provstate               10\n",
       "dtype: int64"
      ]
     },
     "execution_count": 18,
     "metadata": {},
     "output_type": "execute_result"
    }
   ],
   "source": [
    "# checking null values\n",
    "df.isnull().sum()"
   ]
  },
  {
   "cell_type": "markdown",
   "id": "44636c2d",
   "metadata": {},
   "source": [
    "terrorist group sub name is not of much concern to us and it has a lot of\n",
    "missing values we can drop the column. however we need no of terrorists ,\n",
    "killed and wounded information for our analysis. so we will drop these rows\n",
    "containing missing data."
   ]
  },
  {
   "cell_type": "code",
   "execution_count": 19,
   "id": "32f689b8",
   "metadata": {},
   "outputs": [],
   "source": [
    "df.drop(columns=['gsubname','attacktype1'],inplace=True)"
   ]
  },
  {
   "cell_type": "code",
   "execution_count": 20,
   "id": "3f2a770f",
   "metadata": {},
   "outputs": [],
   "source": [
    "df.dropna(subset=('nperps','weapsubtype1_txt','nkill','nwound'),inplace=True)"
   ]
  },
  {
   "cell_type": "code",
   "execution_count": 21,
   "id": "0c8d4845",
   "metadata": {},
   "outputs": [],
   "source": [
    "df.dropna(subset=('city'),inplace=True)"
   ]
  },
  {
   "cell_type": "code",
   "execution_count": 22,
   "id": "ee6ae32a",
   "metadata": {},
   "outputs": [],
   "source": [
    "df.dropna(subset=('provstate'),inplace=True)"
   ]
  },
  {
   "cell_type": "code",
   "execution_count": 23,
   "id": "b80352c8",
   "metadata": {},
   "outputs": [],
   "source": [
    "df.target1.fillna('Unknown',inplace=True)"
   ]
  },
  {
   "cell_type": "code",
   "execution_count": 24,
   "id": "8cbb0f4b",
   "metadata": {},
   "outputs": [
    {
     "data": {
      "text/plain": [
       "iyear               0\n",
       "imonth              0\n",
       "iday                0\n",
       "country_txt         0\n",
       "region_txt          0\n",
       "success             0\n",
       "suicide             0\n",
       "attacktype1_txt     0\n",
       "targtype1_txt       0\n",
       "target1             0\n",
       "gname               0\n",
       "nperps              0\n",
       "weaptype1_txt       0\n",
       "weapsubtype1_txt    0\n",
       "nkill               0\n",
       "nwound              0\n",
       "city                0\n",
       "provstate           0\n",
       "dtype: int64"
      ]
     },
     "execution_count": 24,
     "metadata": {},
     "output_type": "execute_result"
    }
   ],
   "source": [
    "df.isna().sum()"
   ]
  },
  {
   "cell_type": "code",
   "execution_count": 25,
   "id": "722012b4",
   "metadata": {},
   "outputs": [],
   "source": [
    "# null values are dealt with we will give better name to columns\n",
    "\n",
    "df.rename(columns = {'iyear':'year','imonth':'month','iday':'day','country_txt':'country','region_txt':'region',\n",
    "                     'attacktype1_txt':'attacktype','targtype1_txt':'targetype','target1':'target','weaptype1_txt':'weapontype',\n",
    "                     'weapsubtype1_txt':'weaponsubtype','gname':'terroristgroup','nperps':'nperpetrators','nkill':'nkilled','nwound':'nwounded'},inplace = True)"
   ]
  },
  {
   "cell_type": "code",
   "execution_count": 26,
   "id": "048984a8",
   "metadata": {},
   "outputs": [
    {
     "data": {
      "text/html": [
       "<div>\n",
       "<style scoped>\n",
       "    .dataframe tbody tr th:only-of-type {\n",
       "        vertical-align: middle;\n",
       "    }\n",
       "\n",
       "    .dataframe tbody tr th {\n",
       "        vertical-align: top;\n",
       "    }\n",
       "\n",
       "    .dataframe thead th {\n",
       "        text-align: right;\n",
       "    }\n",
       "</style>\n",
       "<table border=\"1\" class=\"dataframe\">\n",
       "  <thead>\n",
       "    <tr style=\"text-align: right;\">\n",
       "      <th></th>\n",
       "      <th>year</th>\n",
       "      <th>month</th>\n",
       "      <th>day</th>\n",
       "      <th>country</th>\n",
       "      <th>region</th>\n",
       "      <th>success</th>\n",
       "      <th>suicide</th>\n",
       "      <th>attacktype</th>\n",
       "      <th>targetype</th>\n",
       "      <th>target</th>\n",
       "      <th>terroristgroup</th>\n",
       "      <th>nperpetrators</th>\n",
       "      <th>weapontype</th>\n",
       "      <th>weaponsubtype</th>\n",
       "      <th>nkilled</th>\n",
       "      <th>nwounded</th>\n",
       "      <th>city</th>\n",
       "      <th>provstate</th>\n",
       "    </tr>\n",
       "    <tr>\n",
       "      <th>eventid</th>\n",
       "      <th></th>\n",
       "      <th></th>\n",
       "      <th></th>\n",
       "      <th></th>\n",
       "      <th></th>\n",
       "      <th></th>\n",
       "      <th></th>\n",
       "      <th></th>\n",
       "      <th></th>\n",
       "      <th></th>\n",
       "      <th></th>\n",
       "      <th></th>\n",
       "      <th></th>\n",
       "      <th></th>\n",
       "      <th></th>\n",
       "      <th></th>\n",
       "      <th></th>\n",
       "      <th></th>\n",
       "    </tr>\n",
       "  </thead>\n",
       "  <tbody>\n",
       "    <tr>\n",
       "      <th>200001010027</th>\n",
       "      <td>2000</td>\n",
       "      <td>1</td>\n",
       "      <td>1</td>\n",
       "      <td>United States</td>\n",
       "      <td>North America</td>\n",
       "      <td>1</td>\n",
       "      <td>0</td>\n",
       "      <td>Facility/Infrastructure Attack</td>\n",
       "      <td>Business</td>\n",
       "      <td>commercial logging equipment on the side of M-...</td>\n",
       "      <td>Earth Liberation Front (ELF)</td>\n",
       "      <td>4.0</td>\n",
       "      <td>Incendiary</td>\n",
       "      <td>Gasoline or Alcohol</td>\n",
       "      <td>0.0</td>\n",
       "      <td>0.0</td>\n",
       "      <td>Mesick</td>\n",
       "      <td>Michigan</td>\n",
       "    </tr>\n",
       "    <tr>\n",
       "      <th>200001020002</th>\n",
       "      <td>2000</td>\n",
       "      <td>1</td>\n",
       "      <td>2</td>\n",
       "      <td>Algeria</td>\n",
       "      <td>Middle East &amp; North Africa</td>\n",
       "      <td>1</td>\n",
       "      <td>0</td>\n",
       "      <td>Armed Assault</td>\n",
       "      <td>Private Citizens &amp; Property</td>\n",
       "      <td>A family in El America</td>\n",
       "      <td>Unknown</td>\n",
       "      <td>10.0</td>\n",
       "      <td>Melee</td>\n",
       "      <td>Knife or Other Sharp Object</td>\n",
       "      <td>5.0</td>\n",
       "      <td>0.0</td>\n",
       "      <td>El Omaria</td>\n",
       "      <td>Medea (Province)</td>\n",
       "    </tr>\n",
       "    <tr>\n",
       "      <th>200001030008</th>\n",
       "      <td>2000</td>\n",
       "      <td>1</td>\n",
       "      <td>3</td>\n",
       "      <td>United States</td>\n",
       "      <td>North America</td>\n",
       "      <td>0</td>\n",
       "      <td>0</td>\n",
       "      <td>Bombing/Explosion</td>\n",
       "      <td>Abortion Related</td>\n",
       "      <td>Planned Parenthood of Cincinnati</td>\n",
       "      <td>Anti-Abortion extremists</td>\n",
       "      <td>-99.0</td>\n",
       "      <td>Explosives</td>\n",
       "      <td>Letter Bomb</td>\n",
       "      <td>0.0</td>\n",
       "      <td>0.0</td>\n",
       "      <td>Cincinnati</td>\n",
       "      <td>Ohio</td>\n",
       "    </tr>\n",
       "    <tr>\n",
       "      <th>200001030009</th>\n",
       "      <td>2000</td>\n",
       "      <td>1</td>\n",
       "      <td>3</td>\n",
       "      <td>United States</td>\n",
       "      <td>North America</td>\n",
       "      <td>0</td>\n",
       "      <td>0</td>\n",
       "      <td>Bombing/Explosion</td>\n",
       "      <td>Abortion Related</td>\n",
       "      <td>Unknown</td>\n",
       "      <td>Anti-Abortion extremists</td>\n",
       "      <td>-99.0</td>\n",
       "      <td>Explosives</td>\n",
       "      <td>Letter Bomb</td>\n",
       "      <td>0.0</td>\n",
       "      <td>0.0</td>\n",
       "      <td>Cincinnati</td>\n",
       "      <td>Ohio</td>\n",
       "    </tr>\n",
       "    <tr>\n",
       "      <th>200001030010</th>\n",
       "      <td>2000</td>\n",
       "      <td>1</td>\n",
       "      <td>3</td>\n",
       "      <td>Yemen</td>\n",
       "      <td>Middle East &amp; North Africa</td>\n",
       "      <td>0</td>\n",
       "      <td>1</td>\n",
       "      <td>Bombing/Explosion</td>\n",
       "      <td>Military</td>\n",
       "      <td>USS The Sullivans</td>\n",
       "      <td>Al-Qaida</td>\n",
       "      <td>-99.0</td>\n",
       "      <td>Explosives</td>\n",
       "      <td>Vehicle</td>\n",
       "      <td>0.0</td>\n",
       "      <td>0.0</td>\n",
       "      <td>Aden</td>\n",
       "      <td>Adan</td>\n",
       "    </tr>\n",
       "  </tbody>\n",
       "</table>\n",
       "</div>"
      ],
      "text/plain": [
       "              year  month  day        country                      region  \\\n",
       "eventid                                                                     \n",
       "200001010027  2000      1    1  United States               North America   \n",
       "200001020002  2000      1    2        Algeria  Middle East & North Africa   \n",
       "200001030008  2000      1    3  United States               North America   \n",
       "200001030009  2000      1    3  United States               North America   \n",
       "200001030010  2000      1    3          Yemen  Middle East & North Africa   \n",
       "\n",
       "              success  suicide                      attacktype  \\\n",
       "eventid                                                          \n",
       "200001010027        1        0  Facility/Infrastructure Attack   \n",
       "200001020002        1        0                   Armed Assault   \n",
       "200001030008        0        0               Bombing/Explosion   \n",
       "200001030009        0        0               Bombing/Explosion   \n",
       "200001030010        0        1               Bombing/Explosion   \n",
       "\n",
       "                                targetype  \\\n",
       "eventid                                     \n",
       "200001010027                     Business   \n",
       "200001020002  Private Citizens & Property   \n",
       "200001030008             Abortion Related   \n",
       "200001030009             Abortion Related   \n",
       "200001030010                     Military   \n",
       "\n",
       "                                                         target  \\\n",
       "eventid                                                           \n",
       "200001010027  commercial logging equipment on the side of M-...   \n",
       "200001020002                             A family in El America   \n",
       "200001030008                   Planned Parenthood of Cincinnati   \n",
       "200001030009                                            Unknown   \n",
       "200001030010                                  USS The Sullivans   \n",
       "\n",
       "                            terroristgroup  nperpetrators  weapontype  \\\n",
       "eventid                                                                 \n",
       "200001010027  Earth Liberation Front (ELF)            4.0  Incendiary   \n",
       "200001020002                       Unknown           10.0       Melee   \n",
       "200001030008      Anti-Abortion extremists          -99.0  Explosives   \n",
       "200001030009      Anti-Abortion extremists          -99.0  Explosives   \n",
       "200001030010                      Al-Qaida          -99.0  Explosives   \n",
       "\n",
       "                            weaponsubtype  nkilled  nwounded        city  \\\n",
       "eventid                                                                    \n",
       "200001010027          Gasoline or Alcohol      0.0       0.0      Mesick   \n",
       "200001020002  Knife or Other Sharp Object      5.0       0.0   El Omaria   \n",
       "200001030008                  Letter Bomb      0.0       0.0  Cincinnati   \n",
       "200001030009                  Letter Bomb      0.0       0.0  Cincinnati   \n",
       "200001030010                      Vehicle      0.0       0.0        Aden   \n",
       "\n",
       "                     provstate  \n",
       "eventid                         \n",
       "200001010027          Michigan  \n",
       "200001020002  Medea (Province)  \n",
       "200001030008              Ohio  \n",
       "200001030009              Ohio  \n",
       "200001030010              Adan  "
      ]
     },
     "execution_count": 26,
     "metadata": {},
     "output_type": "execute_result"
    }
   ],
   "source": [
    "df.head()"
   ]
  },
  {
   "cell_type": "markdown",
   "id": "86c1755b",
   "metadata": {},
   "source": [
    "#### Now our data is prepared and ready for analysis"
   ]
  },
  {
   "cell_type": "markdown",
   "id": "d4ac0f5a",
   "metadata": {},
   "source": [
    "# Exploratory Data Analysis"
   ]
  },
  {
   "cell_type": "code",
   "execution_count": 27,
   "id": "e2db0d33",
   "metadata": {},
   "outputs": [
    {
     "data": {
      "text/html": [
       "<div>\n",
       "<style scoped>\n",
       "    .dataframe tbody tr th:only-of-type {\n",
       "        vertical-align: middle;\n",
       "    }\n",
       "\n",
       "    .dataframe tbody tr th {\n",
       "        vertical-align: top;\n",
       "    }\n",
       "\n",
       "    .dataframe thead th {\n",
       "        text-align: right;\n",
       "    }\n",
       "</style>\n",
       "<table border=\"1\" class=\"dataframe\">\n",
       "  <thead>\n",
       "    <tr style=\"text-align: right;\">\n",
       "      <th></th>\n",
       "      <th>nperpetrators</th>\n",
       "      <th>nkilled</th>\n",
       "      <th>nwounded</th>\n",
       "    </tr>\n",
       "  </thead>\n",
       "  <tbody>\n",
       "    <tr>\n",
       "      <th>count</th>\n",
       "      <td>86568.000000</td>\n",
       "      <td>86568.000000</td>\n",
       "      <td>86568.000000</td>\n",
       "    </tr>\n",
       "    <tr>\n",
       "      <th>mean</th>\n",
       "      <td>-76.792602</td>\n",
       "      <td>1.989835</td>\n",
       "      <td>3.465634</td>\n",
       "    </tr>\n",
       "    <tr>\n",
       "      <th>std</th>\n",
       "      <td>51.020709</td>\n",
       "      <td>7.166689</td>\n",
       "      <td>14.221739</td>\n",
       "    </tr>\n",
       "    <tr>\n",
       "      <th>min</th>\n",
       "      <td>-99.000000</td>\n",
       "      <td>0.000000</td>\n",
       "      <td>0.000000</td>\n",
       "    </tr>\n",
       "    <tr>\n",
       "      <th>25%</th>\n",
       "      <td>-99.000000</td>\n",
       "      <td>0.000000</td>\n",
       "      <td>0.000000</td>\n",
       "    </tr>\n",
       "    <tr>\n",
       "      <th>50%</th>\n",
       "      <td>-99.000000</td>\n",
       "      <td>1.000000</td>\n",
       "      <td>0.000000</td>\n",
       "    </tr>\n",
       "    <tr>\n",
       "      <th>75%</th>\n",
       "      <td>-99.000000</td>\n",
       "      <td>2.000000</td>\n",
       "      <td>3.000000</td>\n",
       "    </tr>\n",
       "    <tr>\n",
       "      <th>max</th>\n",
       "      <td>3000.000000</td>\n",
       "      <td>670.000000</td>\n",
       "      <td>1500.000000</td>\n",
       "    </tr>\n",
       "  </tbody>\n",
       "</table>\n",
       "</div>"
      ],
      "text/plain": [
       "       nperpetrators       nkilled      nwounded\n",
       "count   86568.000000  86568.000000  86568.000000\n",
       "mean      -76.792602      1.989835      3.465634\n",
       "std        51.020709      7.166689     14.221739\n",
       "min       -99.000000      0.000000      0.000000\n",
       "25%       -99.000000      0.000000      0.000000\n",
       "50%       -99.000000      1.000000      0.000000\n",
       "75%       -99.000000      2.000000      3.000000\n",
       "max      3000.000000    670.000000   1500.000000"
      ]
     },
     "execution_count": 27,
     "metadata": {},
     "output_type": "execute_result"
    }
   ],
   "source": [
    "##distribution of number of terrorists , casualties and wounded\n",
    "df[['nperpetrators','nkilled','nwounded']].describe()"
   ]
  },
  {
   "cell_type": "code",
   "execution_count": 28,
   "id": "d66815e2",
   "metadata": {},
   "outputs": [
    {
     "data": {
      "text/plain": [
       "nperpetrators\n",
       "-99.0    69094\n",
       " 1.0      6578\n",
       " 2.0      4045\n",
       " 3.0      1474\n",
       " 4.0      1184\n",
       "         ...  \n",
       " 99.0        1\n",
       " 64.0        1\n",
       " 59.0        1\n",
       " 28.0        1\n",
       " 41.0        1\n",
       "Name: count, Length: 81, dtype: int64"
      ]
     },
     "execution_count": 28,
     "metadata": {},
     "output_type": "execute_result"
    }
   ],
   "source": [
    "df.nperpetrators.value_counts()"
   ]
  },
  {
   "cell_type": "code",
   "execution_count": 29,
   "id": "89644e0f",
   "metadata": {},
   "outputs": [],
   "source": [
    "#this -99 must have been used for unknown terrorist count \n",
    "#will replace this with 0 since dropping these will lead to large loss of data\n",
    "df.nperpetrators.replace(-99.0,0,inplace=True)"
   ]
  },
  {
   "cell_type": "code",
   "execution_count": 30,
   "id": "46514815",
   "metadata": {},
   "outputs": [
    {
     "data": {
      "text/html": [
       "<div>\n",
       "<style scoped>\n",
       "    .dataframe tbody tr th:only-of-type {\n",
       "        vertical-align: middle;\n",
       "    }\n",
       "\n",
       "    .dataframe tbody tr th {\n",
       "        vertical-align: top;\n",
       "    }\n",
       "\n",
       "    .dataframe thead th {\n",
       "        text-align: right;\n",
       "    }\n",
       "</style>\n",
       "<table border=\"1\" class=\"dataframe\">\n",
       "  <thead>\n",
       "    <tr style=\"text-align: right;\">\n",
       "      <th></th>\n",
       "      <th>nperpetrators</th>\n",
       "      <th>nkilled</th>\n",
       "      <th>nwounded</th>\n",
       "    </tr>\n",
       "  </thead>\n",
       "  <tbody>\n",
       "    <tr>\n",
       "      <th>count</th>\n",
       "      <td>86568.000000</td>\n",
       "      <td>86568.000000</td>\n",
       "      <td>86568.000000</td>\n",
       "    </tr>\n",
       "    <tr>\n",
       "      <th>mean</th>\n",
       "      <td>2.223963</td>\n",
       "      <td>1.989835</td>\n",
       "      <td>3.465634</td>\n",
       "    </tr>\n",
       "    <tr>\n",
       "      <th>std</th>\n",
       "      <td>25.934692</td>\n",
       "      <td>7.166689</td>\n",
       "      <td>14.221739</td>\n",
       "    </tr>\n",
       "    <tr>\n",
       "      <th>min</th>\n",
       "      <td>-9.000000</td>\n",
       "      <td>0.000000</td>\n",
       "      <td>0.000000</td>\n",
       "    </tr>\n",
       "    <tr>\n",
       "      <th>25%</th>\n",
       "      <td>0.000000</td>\n",
       "      <td>0.000000</td>\n",
       "      <td>0.000000</td>\n",
       "    </tr>\n",
       "    <tr>\n",
       "      <th>50%</th>\n",
       "      <td>0.000000</td>\n",
       "      <td>1.000000</td>\n",
       "      <td>0.000000</td>\n",
       "    </tr>\n",
       "    <tr>\n",
       "      <th>75%</th>\n",
       "      <td>0.000000</td>\n",
       "      <td>2.000000</td>\n",
       "      <td>3.000000</td>\n",
       "    </tr>\n",
       "    <tr>\n",
       "      <th>max</th>\n",
       "      <td>3000.000000</td>\n",
       "      <td>670.000000</td>\n",
       "      <td>1500.000000</td>\n",
       "    </tr>\n",
       "  </tbody>\n",
       "</table>\n",
       "</div>"
      ],
      "text/plain": [
       "       nperpetrators       nkilled      nwounded\n",
       "count   86568.000000  86568.000000  86568.000000\n",
       "mean        2.223963      1.989835      3.465634\n",
       "std        25.934692      7.166689     14.221739\n",
       "min        -9.000000      0.000000      0.000000\n",
       "25%         0.000000      0.000000      0.000000\n",
       "50%         0.000000      1.000000      0.000000\n",
       "75%         0.000000      2.000000      3.000000\n",
       "max      3000.000000    670.000000   1500.000000"
      ]
     },
     "execution_count": 30,
     "metadata": {},
     "output_type": "execute_result"
    }
   ],
   "source": [
    "df[['nperpetrators','nkilled','nwounded']].describe()"
   ]
  },
  {
   "cell_type": "code",
   "execution_count": 31,
   "id": "d649d76e",
   "metadata": {},
   "outputs": [],
   "source": [
    "df.nperpetrators.replace(-9.0,0,inplace=True)"
   ]
  },
  {
   "cell_type": "code",
   "execution_count": 32,
   "id": "64f33bc0",
   "metadata": {},
   "outputs": [
    {
     "data": {
      "text/html": [
       "<div>\n",
       "<style scoped>\n",
       "    .dataframe tbody tr th:only-of-type {\n",
       "        vertical-align: middle;\n",
       "    }\n",
       "\n",
       "    .dataframe tbody tr th {\n",
       "        vertical-align: top;\n",
       "    }\n",
       "\n",
       "    .dataframe thead th {\n",
       "        text-align: right;\n",
       "    }\n",
       "</style>\n",
       "<table border=\"1\" class=\"dataframe\">\n",
       "  <thead>\n",
       "    <tr style=\"text-align: right;\">\n",
       "      <th></th>\n",
       "      <th>nperpetrators</th>\n",
       "      <th>nkilled</th>\n",
       "      <th>nwounded</th>\n",
       "    </tr>\n",
       "  </thead>\n",
       "  <tbody>\n",
       "    <tr>\n",
       "      <th>count</th>\n",
       "      <td>86568.000000</td>\n",
       "      <td>86568.000000</td>\n",
       "      <td>86568.000000</td>\n",
       "    </tr>\n",
       "    <tr>\n",
       "      <th>mean</th>\n",
       "      <td>2.224067</td>\n",
       "      <td>1.989835</td>\n",
       "      <td>3.465634</td>\n",
       "    </tr>\n",
       "    <tr>\n",
       "      <th>std</th>\n",
       "      <td>25.934665</td>\n",
       "      <td>7.166689</td>\n",
       "      <td>14.221739</td>\n",
       "    </tr>\n",
       "    <tr>\n",
       "      <th>min</th>\n",
       "      <td>0.000000</td>\n",
       "      <td>0.000000</td>\n",
       "      <td>0.000000</td>\n",
       "    </tr>\n",
       "    <tr>\n",
       "      <th>25%</th>\n",
       "      <td>0.000000</td>\n",
       "      <td>0.000000</td>\n",
       "      <td>0.000000</td>\n",
       "    </tr>\n",
       "    <tr>\n",
       "      <th>50%</th>\n",
       "      <td>0.000000</td>\n",
       "      <td>1.000000</td>\n",
       "      <td>0.000000</td>\n",
       "    </tr>\n",
       "    <tr>\n",
       "      <th>75%</th>\n",
       "      <td>0.000000</td>\n",
       "      <td>2.000000</td>\n",
       "      <td>3.000000</td>\n",
       "    </tr>\n",
       "    <tr>\n",
       "      <th>max</th>\n",
       "      <td>3000.000000</td>\n",
       "      <td>670.000000</td>\n",
       "      <td>1500.000000</td>\n",
       "    </tr>\n",
       "  </tbody>\n",
       "</table>\n",
       "</div>"
      ],
      "text/plain": [
       "       nperpetrators       nkilled      nwounded\n",
       "count   86568.000000  86568.000000  86568.000000\n",
       "mean        2.224067      1.989835      3.465634\n",
       "std        25.934665      7.166689     14.221739\n",
       "min         0.000000      0.000000      0.000000\n",
       "25%         0.000000      0.000000      0.000000\n",
       "50%         0.000000      1.000000      0.000000\n",
       "75%         0.000000      2.000000      3.000000\n",
       "max      3000.000000    670.000000   1500.000000"
      ]
     },
     "execution_count": 32,
     "metadata": {},
     "output_type": "execute_result"
    }
   ],
   "source": [
    "df[['nperpetrators','nkilled','nwounded']].describe()"
   ]
  },
  {
   "cell_type": "code",
   "execution_count": 33,
   "id": "1d9c1e4d",
   "metadata": {},
   "outputs": [
    {
     "data": {
      "text/plain": [
       "20840"
      ]
     },
     "execution_count": 33,
     "metadata": {},
     "output_type": "execute_result"
    }
   ],
   "source": [
    "df.city.nunique()"
   ]
  },
  {
   "cell_type": "code",
   "execution_count": 34,
   "id": "d2186f84",
   "metadata": {},
   "outputs": [
    {
     "data": {
      "text/plain": [
       "1684"
      ]
     },
     "execution_count": 34,
     "metadata": {},
     "output_type": "execute_result"
    }
   ],
   "source": [
    "df.provstate.nunique()"
   ]
  },
  {
   "cell_type": "code",
   "execution_count": 35,
   "id": "bd7060fb",
   "metadata": {},
   "outputs": [
    {
     "data": {
      "text/plain": [
       "provstate\n",
       "Baghdad                       6258\n",
       "Balochistan                   3274\n",
       "Khyber Pakhtunkhwa            2940\n",
       "Saladin                       2851\n",
       "Al Anbar                      2780\n",
       "                              ... \n",
       "Limousin                         1\n",
       "Ionian Islands                   1\n",
       "Romblon                          1\n",
       "Marrakech-Tensift-El Haouz       1\n",
       "Vidzeme                          1\n",
       "Name: count, Length: 1684, dtype: int64"
      ]
     },
     "execution_count": 35,
     "metadata": {},
     "output_type": "execute_result"
    }
   ],
   "source": [
    "df.provstate.value_counts()"
   ]
  },
  {
   "cell_type": "code",
   "execution_count": 36,
   "id": "3deb474d",
   "metadata": {},
   "outputs": [
    {
     "data": {
      "text/plain": [
       "targetype\n",
       "Private Citizens & Property       22641\n",
       "Military                          13620\n",
       "Police                            13236\n",
       "Government (General)               9536\n",
       "Business                           7164\n",
       "Unknown                            4911\n",
       "Religious Figures/Institutions     2469\n",
       "Transportation                     2437\n",
       "Educational Institution            2395\n",
       "Utilities                          1891\n",
       "Terrorists/Non-State Militia       1847\n",
       "Journalists & Media                 972\n",
       "Violent Political Party             947\n",
       "Government (Diplomatic)             911\n",
       "Telecommunication                   486\n",
       "NGO                                 414\n",
       "Airports & Aircraft                 267\n",
       "Food or Water Supply                115\n",
       "Tourists                            102\n",
       "Other                                90\n",
       "Maritime                             86\n",
       "Abortion Related                     31\n",
       "Name: count, dtype: int64"
      ]
     },
     "execution_count": 36,
     "metadata": {},
     "output_type": "execute_result"
    }
   ],
   "source": [
    "df.targetype.value_counts()"
   ]
  },
  {
   "cell_type": "code",
   "execution_count": 37,
   "id": "a5460b03",
   "metadata": {},
   "outputs": [
    {
     "data": {
      "text/plain": [
       "weapontype\n",
       "Explosives      54163\n",
       "Firearms        26087\n",
       "Incendiary       4420\n",
       "Melee            1792\n",
       "Chemical          105\n",
       "Radiological        1\n",
       "Name: count, dtype: int64"
      ]
     },
     "execution_count": 37,
     "metadata": {},
     "output_type": "execute_result"
    }
   ],
   "source": [
    "df.weapontype.value_counts()"
   ]
  },
  {
   "cell_type": "code",
   "execution_count": 38,
   "id": "b802de44",
   "metadata": {},
   "outputs": [
    {
     "data": {
      "text/plain": [
       "attacktype\n",
       "Bombing/Explosion                      50647\n",
       "Armed Assault                          21534\n",
       "Assassination                           5974\n",
       "Facility/Infrastructure Attack          4488\n",
       "Hostage Taking (Kidnapping)             3141\n",
       "Unarmed Assault                          305\n",
       "Hostage Taking (Barricade Incident)      276\n",
       "Hijacking                                196\n",
       "Unknown                                    7\n",
       "Name: count, dtype: int64"
      ]
     },
     "execution_count": 38,
     "metadata": {},
     "output_type": "execute_result"
    }
   ],
   "source": [
    "df.attacktype.value_counts()"
   ]
  },
  {
   "cell_type": "code",
   "execution_count": 39,
   "id": "baa36cd2",
   "metadata": {},
   "outputs": [
    {
     "data": {
      "text/plain": [
       "terroristgroup\n",
       "Unknown                                        48154\n",
       "Taliban                                         5284\n",
       "Islamic State of Iraq and the Levant (ISIL)     4043\n",
       "Al-Shabaab                                      2098\n",
       "Boko Haram                                      1654\n",
       "                                               ...  \n",
       "United Karbi Liberation Army (UKLA)                1\n",
       "Terai Rastriya Mukti Sena (TRMS)                   1\n",
       "Minutemen American Defense                         1\n",
       "Rohingya Solidarity Organization                   1\n",
       "National Freedom Party                             1\n",
       "Name: count, Length: 1169, dtype: int64"
      ]
     },
     "execution_count": 39,
     "metadata": {},
     "output_type": "execute_result"
    }
   ],
   "source": [
    "#most violent groups\n",
    "df.terroristgroup.value_counts()"
   ]
  },
  {
   "cell_type": "code",
   "execution_count": 40,
   "id": "606ce628",
   "metadata": {},
   "outputs": [
    {
     "data": {
      "text/plain": [
       "165"
      ]
     },
     "execution_count": 40,
     "metadata": {},
     "output_type": "execute_result"
    }
   ],
   "source": [
    "df.country.nunique()"
   ]
  },
  {
   "cell_type": "code",
   "execution_count": 41,
   "id": "d7531272",
   "metadata": {},
   "outputs": [
    {
     "data": {
      "text/plain": [
       "12"
      ]
     },
     "execution_count": 41,
     "metadata": {},
     "output_type": "execute_result"
    }
   ],
   "source": [
    "df.region.nunique()"
   ]
  },
  {
   "cell_type": "markdown",
   "id": "fb39b422",
   "metadata": {},
   "source": [
    "We have data from 165 countries across 12 regions"
   ]
  },
  {
   "cell_type": "code",
   "execution_count": 52,
   "id": "60c92c8d",
   "metadata": {},
   "outputs": [
    {
     "data": {
      "image/png": "[encoded data removed]",
      "text/plain": [
       "<Figure size 1000x400 with 1 Axes>"
      ]
     },
     "metadata": {},
     "output_type": "display_data"
    }
   ],
   "source": [
    "# attacks by year\n",
    "\n",
    "plt.figure(figsize=(10,4))\n",
    "sns.countplot(x='year',data =df,palette='YlOrRd')\n",
    "\n",
    "plt.xticks(rotation=90)\n",
    "plt.ylabel('Number of attacks')\n",
    "plt.title('Number of attacks by Year')\n",
    "plt.show()"
   ]
  },
  {
   "cell_type": "code",
   "execution_count": 51,
   "id": "a8c15765",
   "metadata": {},
   "outputs": [
    {
     "data": {
      "image/png": "[encoded data removed]",
      "text/plain": [
       "<Figure size 1000x400 with 1 Axes>"
      ]
     },
     "metadata": {},
     "output_type": "display_data"
    }
   ],
   "source": [
    "# attacks by region\n",
    "\n",
    "plt.figure(figsize = (10,4))\n",
    "sns.countplot(y ='region', data = df , palette = 'YlOrRd',\n",
    "              order = df.region.value_counts().index)\n",
    "plt.ylabel('Number of Attacks')\n",
    "plt.title('Attacks by Region')\n",
    "plt.show()"
   ]
  },
  {
   "cell_type": "code",
   "execution_count": 55,
   "id": "9e333079",
   "metadata": {},
   "outputs": [
    {
     "data": {
      "image/png": "[encoded data removed]",
      "text/plain": [
       "<Figure size 1000x400 with 1 Axes>"
      ]
     },
     "metadata": {},
     "output_type": "display_data"
    }
   ],
   "source": [
    "#attacks by countries\n",
    "plt.figure(figsize = (10,4))\n",
    "sns.countplot(y ='country', data = df , palette = 'YlOrRd',\n",
    "              order = df.country.value_counts().nlargest(20).to_frame().index)\n",
    "plt.ylabel('Number of Attacks')\n",
    "plt.title('Attacks by Countries')\n",
    "plt.show()"
   ]
  },
  {
   "cell_type": "code",
   "execution_count": 44,
   "id": "b36440e4",
   "metadata": {},
   "outputs": [
    {
     "data": {
      "text/html": [
       "<div>\n",
       "<style scoped>\n",
       "    .dataframe tbody tr th:only-of-type {\n",
       "        vertical-align: middle;\n",
       "    }\n",
       "\n",
       "    .dataframe tbody tr th {\n",
       "        vertical-align: top;\n",
       "    }\n",
       "\n",
       "    .dataframe thead th {\n",
       "        text-align: right;\n",
       "    }\n",
       "</style>\n",
       "<table border=\"1\" class=\"dataframe\">\n",
       "  <thead>\n",
       "    <tr style=\"text-align: right;\">\n",
       "      <th></th>\n",
       "      <th>year</th>\n",
       "      <th>Total attacks</th>\n",
       "      <th>Total killed</th>\n",
       "      <th>Total injured</th>\n",
       "    </tr>\n",
       "  </thead>\n",
       "  <tbody>\n",
       "    <tr>\n",
       "      <th>0</th>\n",
       "      <td>2000</td>\n",
       "      <td>576</td>\n",
       "      <td>1287.0</td>\n",
       "      <td>1934.0</td>\n",
       "    </tr>\n",
       "    <tr>\n",
       "      <th>1</th>\n",
       "      <td>2001</td>\n",
       "      <td>652</td>\n",
       "      <td>1353.0</td>\n",
       "      <td>2909.0</td>\n",
       "    </tr>\n",
       "    <tr>\n",
       "      <th>2</th>\n",
       "      <td>2002</td>\n",
       "      <td>546</td>\n",
       "      <td>1850.0</td>\n",
       "      <td>3781.0</td>\n",
       "    </tr>\n",
       "    <tr>\n",
       "      <th>3</th>\n",
       "      <td>2003</td>\n",
       "      <td>332</td>\n",
       "      <td>1242.0</td>\n",
       "      <td>2979.0</td>\n",
       "    </tr>\n",
       "    <tr>\n",
       "      <th>4</th>\n",
       "      <td>2004</td>\n",
       "      <td>274</td>\n",
       "      <td>1351.0</td>\n",
       "      <td>2714.0</td>\n",
       "    </tr>\n",
       "  </tbody>\n",
       "</table>\n",
       "</div>"
      ],
      "text/plain": [
       "   year  Total attacks  Total killed  Total injured\n",
       "0  2000            576        1287.0         1934.0\n",
       "1  2001            652        1353.0         2909.0\n",
       "2  2002            546        1850.0         3781.0\n",
       "3  2003            332        1242.0         2979.0\n",
       "4  2004            274        1351.0         2714.0"
      ]
     },
     "execution_count": 44,
     "metadata": {},
     "output_type": "execute_result"
    }
   ],
   "source": [
    "# number of incidents and casualties by year\n",
    "\n",
    "casualties = df.groupby('year').agg({'year':'count','nkilled':'sum','nwounded':'sum'})\n",
    "\n",
    "casualties = casualties.rename(columns = {'year':'Total attacks','nkilled':'Total killed','nwounded':'Total injured'}).reset_index()\n",
    "\n",
    "casualties.head()"
   ]
  },
  {
   "cell_type": "code",
   "execution_count": 49,
   "id": "579b61ed",
   "metadata": {},
   "outputs": [
    {
     "data": {
      "image/png": "[encoded data removed]",
      "text/plain": [
       "<Figure size 1000x400 with 1 Axes>"
      ]
     },
     "metadata": {},
     "output_type": "display_data"
    }
   ],
   "source": [
    "#plotting trends of attacks ,deaths and wounded\n",
    "\n",
    "plt.figure(figsize = (10,4))\n",
    "plt.plot('year','Total attacks',data = casualties,color='r',label='total attacks')\n",
    "plt.plot('year','Total killed',data = casualties,color='b',label='total killed')\n",
    "plt.plot('year','Total injured',data = casualties,color='y',label='total injured')\n",
    "plt.legend()\n",
    "plt.show()"
   ]
  },
  {
   "cell_type": "markdown",
   "id": "035a8da1",
   "metadata": {},
   "source": [
    "# Exporting the Data"
   ]
  },
  {
   "cell_type": "code",
   "execution_count": null,
   "id": "5d55574c",
   "metadata": {},
   "outputs": [],
   "source": [
    "filepath=r\"D:\\DATA SCIENCE\\terrorism.csv\"\n",
    "df.to_csv(filepath)"
   ]
  }
 ],
 "metadata": {
  "kernelspec": {
   "display_name": "Python 3 (ipykernel)",
   "language": "python",
   "name": "python3"
  },
  "language_info": {
   "codemirror_mode": {
    "name": "ipython",
    "version": 3
   },
   "file_extension": ".py",
   "mimetype": "text/x-python",
   "name": "python",
   "nbconvert_exporter": "python",
   "pygments_lexer": "ipython3",
   "version": "3.11.5"
  }
 },
 "nbformat": 4,
 "nbformat_minor": 5
}
